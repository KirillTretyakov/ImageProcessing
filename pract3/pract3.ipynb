{
 "cells": [
  {
   "cell_type": "code",
   "execution_count": null,
   "id": "3786b960-047f-4d09-b4ed-31a3b76b8b2b",
   "metadata": {
    "tags": []
   },
   "outputs": [],
   "source": [
    "from sklearn.cluster import KMeans\n",
    "import cv2\n",
    "import numpy as np\n",
    "import imutils\n",
    "import time\n",
    "import os\n",
    "import numpy as np\n",
    "import matplotlib\n",
    "from PIL import Image"
   ]
  },
  {
   "cell_type": "code",
   "execution_count": 135,
   "id": "96971bf4-433b-48c6-8acf-8967b6ea66cf",
   "metadata": {
    "tags": []
   },
   "outputs": [],
   "source": [
    "list = []"
   ]
  },
  {
   "cell_type": "markdown",
   "id": "24753598-e9e6-4698-9323-d550a463d159",
   "metadata": {
    "tags": []
   },
   "source": [
    "## Сжатие изображения методом K-Means"
   ]
  },
  {
   "cell_type": "code",
   "execution_count": 136,
   "id": "f2cc4f3f-9545-42b7-9e3f-5bdd800a6089",
   "metadata": {
    "tags": []
   },
   "outputs": [],
   "source": [
    "import warnings\n",
    "warnings.filterwarnings(\"ignore\")"
   ]
  },
  {
   "cell_type": "code",
   "execution_count": 137,
   "id": "381f34cd-1db4-4033-a346-b9a0be5a88e5",
   "metadata": {
    "tags": []
   },
   "outputs": [],
   "source": [
    "palette = [1,2,3,4,8,16,32,64,128,256]"
   ]
  },
  {
   "cell_type": "code",
   "execution_count": 138,
   "id": "ce01b985-5e93-4b1c-bccd-53889dd1c064",
   "metadata": {
    "tags": []
   },
   "outputs": [],
   "source": [
    "img = cv2.imread('Bears.jpg')"
   ]
  },
  {
   "cell_type": "code",
   "execution_count": 139,
   "id": "8715fd81-c125-4219-b5e8-7b06fd59e07b",
   "metadata": {
    "tags": []
   },
   "outputs": [],
   "source": [
    "img_r = (img / 255.0).reshape(-1,3)"
   ]
  },
  {
   "cell_type": "code",
   "execution_count": 140,
   "id": "33c45edb-0984-4e7a-887b-fecd531e3997",
   "metadata": {
    "tags": []
   },
   "outputs": [
    {
     "name": "stdout",
     "output_type": "stream",
     "text": [
      "Scikit Compressor:\n",
      "Кол-во цветов: 1 Время выполнения: 0.32 Вес изображения: 8769 байт\n",
      "Кол-во цветов: 2 Время выполнения: 0.93 Вес изображения: 198531 байт\n",
      "Кол-во цветов: 3 Время выполнения: 1.72 Вес изображения: 269289 байт\n",
      "Кол-во цветов: 4 Время выполнения: 2.36 Вес изображения: 278455 байт\n",
      "Кол-во цветов: 8 Время выполнения: 3.06 Вес изображения: 297108 байт\n",
      "Кол-во цветов: 16 Время выполнения: 5.05 Вес изображения: 283387 байт\n",
      "Кол-во цветов: 32 Время выполнения: 9.7 Вес изображения: 273326 байт\n",
      "Кол-во цветов: 64 Время выполнения: 22.57 Вес изображения: 256968 байт\n",
      "Кол-во цветов: 128 Время выполнения: 45.86 Вес изображения: 243166 байт\n",
      "Кол-во цветов: 256 Время выполнения: 108.13 Вес изображения: 232747 байт\n"
     ]
    }
   ],
   "source": [
    "print('Scikit Compressor:')\n",
    "for i in palette:\n",
    "    TimeStart = time.perf_counter()\n",
    "    k_colors = KMeans(n_clusters=i).fit(img_r)\n",
    "    imgC = k_colors.cluster_centers_[k_colors.labels_]\n",
    "    imgC = (np.reshape(imgC, (img.shape))*255).astype(np.uint8)\n",
    "    cv2.imwrite('ScikitCompressor/bears_{a}_palette.jpg'.format(a=i), imgC)\n",
    "    stats = os.stat('ScikitCompressor/bears_{a}_palette.jpg'.format(a=i))\n",
    "    print('Кол-во цветов:',i, 'Время выполнения:', round(time.perf_counter()-TimeStart, 2), 'Вес изображения:', stats.st_size, 'байт')\n",
    "    imgC"
   ]
  },
  {
   "cell_type": "code",
   "execution_count": 141,
   "id": "133326a0-388d-4ebc-aae9-d9e89d8c59f7",
   "metadata": {},
   "outputs": [],
   "source": [
    "def kmeans(Input,K,Max_iters):\n",
    "    \n",
    "    N,D = np.shape(Input)\n",
    "    R = np.random.permutation(N)\n",
    "    Kvec = Input[R[0:K],:]\n",
    "    Distance = np.zeros((N,K))\n",
    "    \n",
    "    for nn in range(0,Max_iters):\n",
    "        F = np.zeros((N,K))\n",
    "        for kk in range(0,K):\n",
    "            Distance[:,kk] = np.sum( np.square(Input - np.tile( Kvec[kk,:], \n",
    "(N,1)),dtype=np.float64),axis=1 )\n",
    "        Dmin = Distance.argmin(axis=1) % Distance.shape[1]\n",
    "        for mm in range(0,K):\n",
    "            if np.size(Dmin[mm==Dmin]) >0:\n",
    "                Kvec[mm,:] = np.mean(Input[mm==Dmin],axis=0)\n",
    "        for ii in range(0,N):\n",
    "            F[ii,Dmin[ii]] = 1\n",
    "        error = sum(sum((F*Distance)/N))\n",
    "        print('Error = ' + str(error))\n",
    "    return Kvec,Dmin"
   ]
  },
  {
   "cell_type": "code",
   "execution_count": 209,
   "id": "27b0c3b5-98f4-4b00-83d0-b06bb9ff7ae3",
   "metadata": {
    "tags": []
   },
   "outputs": [
    {
     "name": "stdin",
     "output_type": "stream",
     "text": [
      "Введите количество цветов 256\n",
      "Введите количество итераций 10\n"
     ]
    }
   ],
   "source": [
    "K = int(input('Введите количество цветов'))\n",
    "Max_iters = int(input('Введите количество итераций'))"
   ]
  },
  {
   "cell_type": "code",
   "execution_count": 210,
   "id": "0e37a74b-1aee-41b7-8d59-450ed997a642",
   "metadata": {
    "tags": []
   },
   "outputs": [],
   "source": [
    "Datain = np.asarray(Image.open('Bears.jpg'),dtype=np.float64)\n",
    "ReshapedData = np.reshape(Datain, (np.size(Datain,0) * \n",
    "np.size(Datain,1),np.size(Datain,2)))\n"
   ]
  },
  {
   "cell_type": "code",
   "execution_count": 211,
   "id": "5879756e-ed90-4559-a4ff-1e5125ffa76a",
   "metadata": {
    "tags": []
   },
   "outputs": [
    {
     "name": "stdout",
     "output_type": "stream",
     "text": [
      "Error = 59.27653366186587\n",
      "Error = 42.651624306857144\n",
      "Error = 39.239100025173805\n",
      "Error = 37.787180723080986\n",
      "Error = 36.973578832276615\n",
      "Error = 36.420817031888944\n",
      "Error = 36.00589173324837\n",
      "Error = 35.686807719282015\n",
      "Error = 35.424534681827176\n",
      "Error = 35.19592344024601\n"
     ]
    }
   ],
   "source": [
    "TimeStart = time.perf_counter()\n",
    "Kvec,Dmin = kmeans(ReshapedData,K,Max_iters)\n",
    "TimeKMeans = round(time.perf_counter()-TimeStart)"
   ]
  },
  {
   "cell_type": "code",
   "execution_count": 212,
   "id": "332036a6-b245-428f-80c1-955019c294ec",
   "metadata": {
    "tags": []
   },
   "outputs": [],
   "source": [
    "Dvec = np.zeros((len(Dmin),len(Kvec[0,:])))"
   ]
  },
  {
   "cell_type": "code",
   "execution_count": 213,
   "id": "7ab2ec85-ba44-46ec-a4ca-38923d513edb",
   "metadata": {
    "tags": []
   },
   "outputs": [],
   "source": [
    "for jj in range(0,K):\n",
    "    Dvec[jj==Dmin,:] = Kvec[jj,:]"
   ]
  },
  {
   "cell_type": "code",
   "execution_count": 214,
   "id": "143b7d6f-6783-46f6-88a6-c7a8b55e6a01",
   "metadata": {
    "tags": []
   },
   "outputs": [],
   "source": [
    "imout = np.reshape(np.uint8(Dvec), \n",
    "(np.size(Datain,0),np.size(Datain,1),len(Kvec[0,:])))"
   ]
  },
  {
   "cell_type": "code",
   "execution_count": 215,
   "id": "9c11ab91-b54c-48ab-9c6c-ec7b74d77035",
   "metadata": {
    "tags": []
   },
   "outputs": [],
   "source": [
    "im = Image.fromarray(imout,'RGB')\n",
    "im.save(\"KmeansCompressor/bears_\"+str(K)+\"_palette.jpg\")\n",
    "stats = os.stat(\"KmeansCompressor/bears_\"+str(K)+\"_palette.jpg\")\n",
    "list.append('Кол-во цветов: '+str(K)+' Время выполнения: '+str(TimeKMeans)+' Вес изображения: '+str(stats.st_size)+' байт')"
   ]
  },
  {
   "cell_type": "code",
   "execution_count": 220,
   "id": "5b2c49f8-ad14-423e-91c7-efe46229a3c5",
   "metadata": {
    "tags": []
   },
   "outputs": [
    {
     "name": "stdout",
     "output_type": "stream",
     "text": [
      "K-Means с выбором количества итераций (итераций 10):\n",
      "Кол-во цветов: 1 Время выполнения: 3 Вес изображения: 8768 байт\n",
      "Кол-во цветов: 2 Время выполнения: 4 Вес изображения: 95867 байт\n",
      "Кол-во цветов: 3 Время выполнения: 4 Вес изображения: 118639 байт\n",
      "Кол-во цветов: 4 Время выполнения: 4 Вес изображения: 122940 байт\n",
      "Кол-во цветов: 8 Время выполнения: 5 Вес изображения: 118826 байт\n",
      "Кол-во цветов: 16 Время выполнения: 7 Вес изображения: 113435 байт\n",
      "Кол-во цветов: 32 Время выполнения: 11 Вес изображения: 112277 байт\n",
      "Кол-во цветов: 64 Время выполнения: 19 Вес изображения: 112317 байт\n",
      "Кол-во цветов: 128 Время выполнения: 34 Вес изображения: 112884 байт\n",
      "Кол-во цветов: 256 Время выполнения: 64 Вес изображения: 113672 байт\n"
     ]
    }
   ],
   "source": [
    "print('K-Means с выбором количества итераций (итераций 10):')\n",
    "print(*list, sep='\\n')"
   ]
  },
  {
   "cell_type": "markdown",
   "id": "13b0082b-b055-4c10-a5c9-108d083449d1",
   "metadata": {},
   "source": [
    "*Подводя итог, можно скахать, что способ K-Means с выбором количества итераций является более оптимальным, так как время сжатия фотографии проходит быстрее, а также сам вес фотографии получается меньше*"
   ]
  },
  {
   "cell_type": "markdown",
   "id": "ddab957d-2d56-4801-b8cf-0a681a245508",
   "metadata": {},
   "source": [
    "## *Следующее задание будет выполнено с помощью метода K-Means с выбором количества итераций*"
   ]
  },
  {
   "cell_type": "code",
   "execution_count": 224,
   "id": "7871c35d-ffe0-4746-a579-872a23942c80",
   "metadata": {
    "tags": []
   },
   "outputs": [],
   "source": [
    "listMy=[]"
   ]
  },
  {
   "cell_type": "code",
   "execution_count": null,
   "id": "9ddd18c2-28d8-4d1f-8b76-450326ff1627",
   "metadata": {
    "tags": []
   },
   "outputs": [],
   "source": [
    "K = int(input('Введите количество цветов'))\n",
    "Max_iters = int(input('Введите количество итераций'))\n",
    "NameJPG = input()\n",
    "Datain = np.asarray(Image.open('ex3/'+NameJPG+'.jpg'),dtype=np.float64)\n",
    "ReshapedData = np.reshape(Datain, (np.size(Datain,0) * \n",
    "np.size(Datain,1),np.size(Datain,2)))\n",
    "Kvec,Dmin = kmeans(ReshapedData,K,Max_iters)\n",
    "Dvec = np.zeros((len(Dmin),len(Kvec[0,:])))\n",
    "for jj in range(0,K):\n",
    "    Dvec[jj==Dmin,:] = Kvec[jj,:]\n",
    "imout = np.reshape(np.uint8(Dvec), \n",
    "(np.size(Datain,0),np.size(Datain,1),len(Kvec[0,:])))\n",
    "im = Image.fromarray(imout,'RGB')\n",
    "im.save(\"ex3/redux/\"+NameJPG+\".jpg\")\n",
    "listMy.append('Изображение '+NameJPG+' сохранено с иоспользованием '+str(K)+' цвета(ов)')"
   ]
  },
  {
   "cell_type": "code",
   "execution_count": null,
   "id": "9d06f874-2e8a-41ae-ab3e-05bc22972bb1",
   "metadata": {},
   "outputs": [],
   "source": [
    "print('Сжатие моих изображений:')\n",
    "print(*listMy, sep='\\n')"
   ]
  }
 ],
 "metadata": {
  "kernelspec": {
   "display_name": "Python 3 (ipykernel)",
   "language": "python",
   "name": "python3"
  },
  "language_info": {
   "codemirror_mode": {
    "name": "ipython",
    "version": 3
   },
   "file_extension": ".py",
   "mimetype": "text/x-python",
   "name": "python",
   "nbconvert_exporter": "python",
   "pygments_lexer": "ipython3",
   "version": "3.11.0"
  }
 },
 "nbformat": 4,
 "nbformat_minor": 5
}
