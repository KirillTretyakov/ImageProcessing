{
 "cells": [
  {
   "cell_type": "markdown",
   "metadata": {},
   "source": [
    "# Практическая работа на тему \n",
    "# _'Фильтрация изображений с использованием свертки в Python'_"
   ]
  },
  {
   "cell_type": "code",
   "execution_count": 1,
   "metadata": {
    "tags": []
   },
   "outputs": [],
   "source": [
    "import numpy as np\n",
    "import cv2\n",
    "import os"
   ]
  },
  {
   "cell_type": "code",
   "execution_count": 2,
   "metadata": {
    "tags": []
   },
   "outputs": [],
   "source": [
    "kernLow = np.array([[1, 1, 1, 1, 1],\n",
    "                    [1, 1, 1, 1, 1],\n",
    "                    [1, 1, 1, 1, 1],\n",
    "                    [1, 1, 1, 1, 1],\n",
    "                    [1, 1, 1, 1, 1]])\n",
    "kernLow = kernLow/(np.sum(kernLow) if np.sum(kernLow)!=0 else 1)\n",
    "\n",
    "kernHigh = np.array([[0.0, -1.0, 0.0],\n",
    "                     [-1.0, 4.0, -1.0],\n",
    "                     [0.0, -1.0, 0.0]])\n"
   ]
  },
  {
   "cell_type": "code",
   "execution_count": 3,
   "metadata": {
    "tags": []
   },
   "outputs": [],
   "source": [
    "def treatment(img_src, i, kernLow, kernHigh):\n",
    "    img_rst = cv2.filter2D(img_src,-1,kernLow)\n",
    "    img_rst1 = cv2.filter2D(img_src,-1,kernHigh)\n",
    "    cv2.imwrite('Низкая частота/{a}_НизкаяЧастота.jpg'.format(a=i),img_rst)\n",
    "    cv2.imwrite('Высокая частота/{a}_Высокая частота.jpg'.format(a=i),img_rst1)\n",
    "    return 'Изображение {a}.jpg с низкой частотой сохранено\\nИзображение {a}.jpg с высокой частотой сохранено\\n'.format(a=i)"
   ]
  },
  {
   "cell_type": "code",
   "execution_count": 4,
   "metadata": {
    "tags": []
   },
   "outputs": [
    {
     "name": "stdout",
     "output_type": "stream",
     "text": [
      "Изображение 1.jpg с низкой частотой сохранено\n",
      "Изображение 1.jpg с высокой частотой сохранено\n",
      "\n",
      "Изображение 2.jpg с низкой частотой сохранено\n",
      "Изображение 2.jpg с высокой частотой сохранено\n",
      "\n",
      "Изображение 3.jpg с низкой частотой сохранено\n",
      "Изображение 3.jpg с высокой частотой сохранено\n",
      "\n",
      "Изображение 4.jpg с низкой частотой сохранено\n",
      "Изображение 4.jpg с высокой частотой сохранено\n",
      "\n",
      "Изображение 5.jpg с низкой частотой сохранено\n",
      "Изображение 5.jpg с высокой частотой сохранено\n",
      "\n"
     ]
    }
   ],
   "source": [
    "for i in range(1, 6):\n",
    "    if os.path.exists('Illustr/{a}.JPG'.format(a=i)):\n",
    "        img_src = cv2.imread('Illustr/{a}.JPG'.format(a=i)) \n",
    "        print(treatment(img_src, i, kernLow, kernHigh))    "
   ]
  },
  {
   "cell_type": "markdown",
   "metadata": {},
   "source": [
    "- Отфильтровав изображения способом низких частот мы видим, что наши изображения стали более мутными. Этот фильтр используют при сжатии изображения, при очистке изображений от шумов, а также в редакторе фотографий и изображений (например, чтобы сделать задний фон)\n",
    "- Фильтр высоких частот мы используем для выделения границ (в случае с аэрофотоснимками - для выделения горизонталей), а также для создания четкого эскиза в обычных изображениях"
   ]
  },
  {
   "cell_type": "markdown",
   "metadata": {},
   "source": [
    "## Реализация собственного ядра"
   ]
  },
  {
   "cell_type": "code",
   "execution_count": 5,
   "metadata": {
    "tags": []
   },
   "outputs": [],
   "source": [
    "MyKern = np.array([[0.1, 0.1, 0.1],\n",
    "                     [0.1, 0.1, 0.1],\n",
    "                     [0.1, 0.1, 0.1]])\n",
    "MyKern = MyKern/(np.sum(MyKern) if np.sum(MyKern)!=0 else 1)"
   ]
  },
  {
   "cell_type": "code",
   "execution_count": 6,
   "metadata": {
    "tags": []
   },
   "outputs": [
    {
     "data": {
      "text/plain": [
       "True"
      ]
     },
     "execution_count": 6,
     "metadata": {},
     "output_type": "execute_result"
    }
   ],
   "source": [
    "img_src = cv2.imread('MyIllustr/MonaLiza.jpg') \n",
    "img_rst = cv2.filter2D(img_src,-1,MyKern)\n",
    "cv2.imwrite('MyIllustr/MonaLizaNew.jpg', img_rst)"
   ]
  },
  {
   "cell_type": "markdown",
   "metadata": {},
   "source": [
    "- При использовании моего фильтра на картине \"Мона Лиза\" частично убираются резкие контуры. При приближении мы можем заметить, что различные шумы на картине исчезли (либо были смягчены), при этом вся картина практически не потеряла четкости"
   ]
  }
 ],
 "metadata": {
  "kernelspec": {
   "display_name": "Python 3 (ipykernel)",
   "language": "python",
   "name": "python3"
  },
  "language_info": {
   "codemirror_mode": {
    "name": "ipython",
    "version": 3
   },
   "file_extension": ".py",
   "mimetype": "text/x-python",
   "name": "python",
   "nbconvert_exporter": "python",
   "pygments_lexer": "ipython3",
   "version": "3.11.0"
  }
 },
 "nbformat": 4,
 "nbformat_minor": 4
}
